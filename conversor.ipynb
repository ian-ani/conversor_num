{
 "cells": [
  {
   "cell_type": "markdown",
   "id": "9b77fb7f-23e2-4d3f-87f9-2cf9a800c038",
   "metadata": {},
   "source": [
    "# Conversor de sistemas de numeración"
   ]
  },
  {
   "cell_type": "markdown",
   "id": "1d11018e-a0b2-44f6-9c8f-20d323a604ae",
   "metadata": {},
   "source": [
    "## De decimal a binario, octal o hexadecimal\n",
    "\n",
    "Como nota, este sirve para pasar de decimal a cualquiera con base inferior a 16 (hexadecimal). Es decir, que un ternario (3) también se podría convertir a decimal con esta función.  \n",
    "Para pasar de decimal a binario, octal o hexadecimal lo que hay que hacer es dividir ese número entre su base (2, 8, 16) y quedarnos con el resto de cada división. El número resultante a la inversa es el número en sí."
   ]
  },
  {
   "cell_type": "code",
   "execution_count": null,
   "id": "da19c74b-2435-44b4-b03b-ff5c36cfc973",
   "metadata": {},
   "outputs": [],
   "source": [
    "def from_decimal(numero, base):\n",
    "    resultado = \"\"\n",
    "    divisor = base\n",
    "    tabla = {0:\"0\", 1:\"1\", 2:\"2\", 3:\"3\", 4:\"4\", 5:\"5\", 6:\"6\", 7:\"7\", 8:\"8\", 9:\"9\", \n",
    "              10:\"A\", 11:\"B\", 12:\"C\", 13:\"D\", 14:\"E\", 15:\"F\"}\n",
    "\n",
    "    try:\n",
    "        while numero >= 1:\n",
    "            resto = int(numero) % divisor\n",
    "            numero = numero // divisor\n",
    "    \n",
    "            resultado = tabla[resto] + str(resultado)\n",
    "    except TypeError:\n",
    "        print(\"TypeError: debe ser un número.\")\n",
    "        return None\n",
    "        \n",
    "    return resultado"
   ]
  },
  {
   "cell_type": "code",
   "execution_count": null,
   "id": "8ed549bd-ed00-4276-b594-70cdfd8f9fc5",
   "metadata": {},
   "outputs": [],
   "source": [
    "from_decimal(1300, 2) # tiene que dar 10100010100"
   ]
  },
  {
   "cell_type": "code",
   "execution_count": null,
   "id": "8cf59dfc-d39e-44bf-a2ab-6a04707e6750",
   "metadata": {},
   "outputs": [],
   "source": [
    "from_decimal(1300, 8) # tiene que dar 2424"
   ]
  },
  {
   "cell_type": "code",
   "execution_count": null,
   "id": "e6841cc9-5380-4f7c-b0e7-bfd490dfa935",
   "metadata": {},
   "outputs": [],
   "source": [
    "from_decimal(1300, 16) # tiene que dar 514"
   ]
  },
  {
   "cell_type": "code",
   "execution_count": null,
   "id": "3924f8b5-baff-4cf6-8b3a-71affb8f5847",
   "metadata": {},
   "outputs": [],
   "source": [
    "from_decimal(\"NICE\", 2) # tiene que dar error"
   ]
  },
  {
   "cell_type": "markdown",
   "id": "cdcd6650-4e10-4d2b-b7e9-ecb326c76bcf",
   "metadata": {},
   "source": [
    "## Binario, octal o hexadecimal a decimal\n",
    "\n",
    "Con **not in** or **in** se puede comprobar si esos números están en una cadena de texto o no, sin tener que compararlos con símbolos de mayor, menor, etcétera. También sirve para las claves de diccionario.\n",
    "\n",
    "```\n",
    "n * base^posicion\n",
    "n * 2^posicion\n",
    "101 = 1*2^2 + 0*2^1 + 1*2^0\n",
    "resultado = 5\n",
    "```\n",
    "\n",
    "Primero comprueba la base, si se cumple la condición quiere decir que la base no es binaria, octal o hexadecimal por lo tanto tiene que parar la ejecución del programa con el **return**. Si la base es correcta no cumple la condición y continúa la ejecución del programa.  \n",
    "En el primer bucle **for** se verifica si la cadena entera tiene valores correctos o incorrectos (el binario es solo de 0 o 1, por ejemplo), si son incorrectos muestra un mensaje y para la ejecución del programa ya que una de las condiciones se cumple. Si la verificación es satisfactoria, continúa el programa porque no cumple ninguna de las condiciones.  \n",
    "Por último, hace la operación para cambiar de binario, octal o hexadecimal a decimal. El return tiene que estar fuera, de lo contrario, parará la ejecución en la primera vuelta del bucle."
   ]
  },
  {
   "cell_type": "code",
   "execution_count": null,
   "id": "b3af2597-a1df-4289-88e2-5e93046463a8",
   "metadata": {},
   "outputs": [],
   "source": [
    "def to_decimal(numero, base):\n",
    "    resultado = 0\n",
    "    largo = len(str(numero))\n",
    "    tabla = {\"0\":0, \"1\":1, \"2\":2, \"3\":3, \"4\":4, \"5\":5, \"6\":6, \"7\":7, \"8\":8, \"9\":9, \n",
    "              \"A\":10, \"B\":11, \"C\":12, \"D\":13, \"E\":14, \"F\":15}\n",
    "\n",
    "    if base not in [2, 8, 16]:\n",
    "        print(\"La base indicada debe ser 2, 8 o 16.\")\n",
    "        return None       \n",
    "        \n",
    "    for digito in str(numero):\n",
    "        if base == 2 and digito not in \"01\":\n",
    "            print(\"El número indicado no es un binario.\")\n",
    "            return None\n",
    "        if base == 8 and digito not in \"01234567\":\n",
    "            print(\"El número indicado no es un octal.\")\n",
    "            return None\n",
    "        if base == 16 and digito.upper() not in tabla:\n",
    "            print(\"El número indicado no es un hexadecimal.\")\n",
    "            return None      \n",
    "            \n",
    "    for index, digito in enumerate(str(numero)):\n",
    "        posicion = int(largo) - index\n",
    "        PONER_NOMBRE = int(tabla[digito.upper()]) * int(base)**int(posicion-1)\n",
    "        \n",
    "        resultado = resultado + PONER_NOMBRE\n",
    "        \n",
    "    return resultado"
   ]
  },
  {
   "cell_type": "code",
   "execution_count": null,
   "id": "ede002d3-dbf0-4c66-8134-c98ede8947b4",
   "metadata": {},
   "outputs": [],
   "source": [
    "to_decimal(101, 2) # tiene que dar 5, binario"
   ]
  },
  {
   "cell_type": "code",
   "execution_count": null,
   "id": "2116d01a-8dce-4cbb-9e32-f1038771a2c8",
   "metadata": {},
   "outputs": [],
   "source": [
    "to_decimal(2424, 8) # tiene que dar 1300, octal"
   ]
  },
  {
   "cell_type": "code",
   "execution_count": null,
   "id": "f4dfa275-d145-4db7-ad83-8c342fd49313",
   "metadata": {},
   "outputs": [],
   "source": [
    "to_decimal(\"C\", 16) # tiene que dar 12, hexadecimal"
   ]
  },
  {
   "cell_type": "code",
   "execution_count": null,
   "id": "8ca83f6c-64b4-4131-a518-549110e79fb3",
   "metadata": {},
   "outputs": [],
   "source": [
    "to_decimal(\"4NAF103\", 16) # tiene que dar error"
   ]
  },
  {
   "cell_type": "markdown",
   "id": "81ba4d9a-395f-4082-91db-a66299579060",
   "metadata": {},
   "source": [
    "## Binario a octal\n",
    "\n",
    "Para pasar de binario a octal hay que coger los números en binario de tres en tres: lo hace el segundo bucle **for** con el salto de a 3 en el **range**.  \n",
    "\n",
    "El primer **for** comprueba si el número introducido es un binario o no, si no lo es corta la ejecución del programa.  \n",
    "El **while** añade a la izquierda los ceros necesarios, ya que como se ha mencionado antes, de binario a octal se hace cogiendo cadenas de tres dígitos. Podríamos pensar que habría que indicar que el largo del número es inferior o igual a 3, pero realmente hay que indicarle que sea múltiplo de 3 (si al dividir el número entre 3 el resto es 0 es múltiplo de 3).  \n",
    "Por último, como se ha indicado anteriormente, el último **for** hace el cálculo necesario. Lo que hace es hacer saltos de tres en tres, en la variable **valor** guarda tres dígitos con el *slice*: ``indice:indice+3`` equivale a ``0:0+3``.\n",
    "\n",
    "Por ejemplo:\n",
    "\n",
    "Tenemos el número 101110 en binario, para pasar a octal el bucle hace lo siguiente:\n",
    "\n",
    "```\n",
    "Primera vuelta: índice 0, 1, 2\n",
    "Segunda vuelta: índice 3, 4, 5\n",
    "\n",
    "Primera vuelta: valor = 101110[0:3] = 101\n",
    "Segunda vuelta: valor = 101110[3:6] = 110\n",
    "```"
   ]
  },
  {
   "cell_type": "code",
   "execution_count": null,
   "id": "2e66dc08-f761-4e69-acb8-d9ef62db43cb",
   "metadata": {},
   "outputs": [],
   "source": [
    "def binary_to_octal(numero):\n",
    "    resultado = \"\"\n",
    "    tabla = {\"000\":0, \"001\":1, \"010\":2, \"011\":3, \"100\":4, \"101\":5, \"110\":6, \"111\":7}\n",
    "\n",
    "    for digito in str(numero):\n",
    "        if digito not in \"01\":\n",
    "            print(\"El número indicado no es un binario.\")\n",
    "            return None\n",
    "            \n",
    "    while len(str(numero)) % 3 != 0:\n",
    "        numero = \"0\" + str(numero)\n",
    "        \n",
    "    for indice in range(0, len(str(numero)), 3):\n",
    "        valor = str(numero)[indice:indice+3]\n",
    "        \n",
    "        resultado = resultado + str(tabla[valor])\n",
    "        \n",
    "    return resultado"
   ]
  },
  {
   "cell_type": "code",
   "execution_count": null,
   "id": "2ae797eb-3ac7-4abd-aac5-83af406f88f2",
   "metadata": {},
   "outputs": [],
   "source": [
    "binary_to_octal(101110) # tiene que dar 56"
   ]
  },
  {
   "cell_type": "code",
   "execution_count": null,
   "id": "ff47ebdd-bf36-4df9-b32b-eafd50d30b84",
   "metadata": {},
   "outputs": [],
   "source": [
    "binary_to_octal(11101) # deberia ser 011 101 por lo tanto 35"
   ]
  },
  {
   "cell_type": "code",
   "execution_count": null,
   "id": "0f6b379b-c7f1-4495-8776-86265d7dc083",
   "metadata": {},
   "outputs": [],
   "source": [
    "binary_to_octal(\"NICE\") # tiene que dar error"
   ]
  },
  {
   "cell_type": "code",
   "execution_count": null,
   "id": "fcc75252-3a6b-45aa-9c8c-a082bcb668b1",
   "metadata": {},
   "outputs": [],
   "source": [
    "binary_to_octal(35) # tiene que dar error"
   ]
  },
  {
   "cell_type": "markdown",
   "id": "9a1db42f-7c50-4817-a807-2905e77826ac",
   "metadata": {},
   "source": [
    "## Binario a hexadecimal\n",
    "\n",
    "Igual que para octal, pero en lugar de 3 en 3 son de 4 en 4."
   ]
  },
  {
   "cell_type": "code",
   "execution_count": null,
   "id": "4d70dde2-4e4e-45ce-86dc-5c61ac851450",
   "metadata": {},
   "outputs": [],
   "source": [
    "def binary_to_hex(numero):\n",
    "    resultado = \"\"\n",
    "    tabla = {\"0000\":0, \"0001\":1, \"0010\":2, \"0011\":3, \"0100\":4, \"0101\":5, \"0110\":6, \"0111\":7, \"1000\": 8, \"1001\":9,\n",
    "             \"1010\":\"A\", \"1011\":\"B\", \"1100\":\"C\", \"1101\":\"D\", \"1110\":\"E\", \"1111\":\"F\"}\n",
    "\n",
    "    for digito in str(numero):\n",
    "        if digito not in \"01\":\n",
    "            print(\"El número indicado no es un binario.\")\n",
    "            return None\n",
    "\n",
    "    while len(str(numero)) % 4 != 0:\n",
    "        numero = \"0\" + str(numero)\n",
    "\n",
    "    for indice in range(0, len(str(numero)), 4):\n",
    "        valor = str(numero)[indice:indice+4]\n",
    "        resultado = resultado + str(tabla[valor])\n",
    "\n",
    "    return resultado"
   ]
  },
  {
   "cell_type": "code",
   "execution_count": null,
   "id": "ffb10395-d142-411f-b291-891e4394b5a5",
   "metadata": {},
   "outputs": [],
   "source": [
    "binary_to_hex(10011100) # tiene que dar 9C"
   ]
  },
  {
   "cell_type": "code",
   "execution_count": null,
   "id": "29a8b4e2-b607-4f0c-9e58-5ee48190fefc",
   "metadata": {},
   "outputs": [],
   "source": [
    "binary_to_hex(11110) # 0001 1110 tiene que dar 1E"
   ]
  },
  {
   "cell_type": "code",
   "execution_count": null,
   "id": "86a9acb9-947d-4965-8c83-47a9c200392c",
   "metadata": {},
   "outputs": [],
   "source": [
    "binary_to_hex(\"NICE\") # tiene que dar error"
   ]
  },
  {
   "cell_type": "code",
   "execution_count": null,
   "id": "399be9b4-93bb-4864-b5d5-81120393c062",
   "metadata": {},
   "outputs": [],
   "source": [
    "binary_to_hex(42) # tiene que dar error"
   ]
  },
  {
   "cell_type": "markdown",
   "id": "68c116ec-b904-4114-bbd6-a75d24403ec5",
   "metadata": {},
   "source": [
    "## Octal a binario\n",
    "\n",
    "De octal a binario no hay que hacer nada en especial, simplemente teniendo una tabla (diccionario) con las equivalencias es suficiente. De la clave de diccionario devuelve su valor."
   ]
  },
  {
   "cell_type": "code",
   "execution_count": null,
   "id": "95f2add8-e10a-41f0-9201-a93265bd249f",
   "metadata": {},
   "outputs": [],
   "source": [
    "def octal_to_bin(numero):\n",
    "    resultado = \"\"\n",
    "    tabla = {\"0\":\"000\", \"1\":\"001\", \"2\":\"010\", \"3\":\"011\", \"4\":\"100\", \"5\":\"101\", \"6\":\"110\", \"7\":\"111\"}\n",
    "\n",
    "    for digito in str(numero):\n",
    "        if digito not in \"01234567\":\n",
    "            print(\"El número indicado no es un octal.\")\n",
    "            return None\n",
    "\n",
    "    for digito in str(numero):\n",
    "        resultado = str(resultado) + str(tabla[digito])\n",
    "\n",
    "    return resultado"
   ]
  },
  {
   "cell_type": "code",
   "execution_count": null,
   "id": "727cf2e9-03fb-491b-a33b-29944b3e5a27",
   "metadata": {},
   "outputs": [],
   "source": [
    "octal_to_bin(35) # deberia ser 011101 por lo tanto 35"
   ]
  },
  {
   "cell_type": "code",
   "execution_count": null,
   "id": "f5477d6d-6ced-4cbb-a1b8-b97733926450",
   "metadata": {},
   "outputs": [],
   "source": [
    "octal_to_bin(\"NICE\") # error"
   ]
  },
  {
   "cell_type": "code",
   "execution_count": null,
   "id": "464c9a30-e8ed-4dba-8e03-cf95df0c6e8f",
   "metadata": {},
   "outputs": [],
   "source": [
    "octal_to_bin(789) # error"
   ]
  },
  {
   "cell_type": "markdown",
   "id": "1e808a6a-5b1e-4b1c-911b-5133c0f19e56",
   "metadata": {},
   "source": [
    "## Octal a hexadecimal\n",
    "\n",
    "La solución fácil es pasar de octal a binario, de binario a hexadecimal. Como las funciones ya las he creado antes, las puedo reutilizar llamándolas en esta.    \n",
    "El último **if** solamente borra un cero si ocurriera (es simplemente por estética)."
   ]
  },
  {
   "cell_type": "code",
   "execution_count": null,
   "id": "bf3cd52a-f354-456e-a2d7-93a1895e2207",
   "metadata": {},
   "outputs": [],
   "source": [
    "def octal_to_hex(numero):\n",
    "    bin_number = octal_to_bin(numero)\n",
    "\n",
    "    if bin_number is None:\n",
    "        return None\n",
    "    \n",
    "    hex_number = binary_to_hex(bin_number)\n",
    "    \n",
    "    if hex_number.startswith(\"0\"):\n",
    "        hex_number = hex_number[1:]\n",
    "\n",
    "    return hex_number"
   ]
  },
  {
   "cell_type": "code",
   "execution_count": null,
   "id": "ac3378d9-0490-4ca7-b032-62cbe64d39f2",
   "metadata": {},
   "outputs": [],
   "source": [
    "octal_to_hex(15) # deberia ser D"
   ]
  },
  {
   "cell_type": "code",
   "execution_count": null,
   "id": "c3c0bb90-a21d-4b64-8bf5-c5c0a1356401",
   "metadata": {},
   "outputs": [],
   "source": [
    "octal_to_hex(\"NICE\") # error"
   ]
  },
  {
   "cell_type": "markdown",
   "id": "85d36fa7-b126-4b4a-a45a-7142029052c6",
   "metadata": {},
   "source": [
    "## Hexadecimal a binario\n",
    "\n",
    "De hexadecimal a binario tampoco hay que hacer nada en especial, simplemente teniendo una tabla (diccionario) con las equivalencias es suficiente. De la clave de diccionario devuelve su valor."
   ]
  },
  {
   "cell_type": "code",
   "execution_count": null,
   "id": "06606108-6ed9-4d37-a735-bede1d982a2b",
   "metadata": {},
   "outputs": [],
   "source": [
    "def hex_to_bin(numero):\n",
    "    resultado = \"\"\n",
    "    tabla = {\"0\":\"0000\", \"1\":\"0001\", \"2\":\"0010\", \"3\":\"0011\", \"4\":\"0100\", \"5\":\"0101\", \"6\":\"0110\", \"7\":\"0111\",\n",
    "             \"8\":\"1000\", \"9\":\"1001\", \"A\":\"1010\", \"B\":\"1011\", \"C\":\"1100\", \"D\":\"1101\", \"E\":\"1110\", \"F\":\"1111\"}\n",
    "\n",
    "    for digito in str(numero):\n",
    "        if digito not in tabla:\n",
    "            print(\"El número indicado no es un hexadecimal.\")\n",
    "            return None\n",
    "\n",
    "    for digito in str(numero):\n",
    "        resultado = str(resultado) + str(tabla[digito])\n",
    "\n",
    "    return resultado"
   ]
  },
  {
   "cell_type": "code",
   "execution_count": null,
   "id": "cf5373a0-fe2c-454c-85aa-8ba9d28a391f",
   "metadata": {},
   "outputs": [],
   "source": [
    "hex_to_bin(\"1E\") # deberia ser 11110 o 00011110"
   ]
  },
  {
   "cell_type": "code",
   "execution_count": null,
   "id": "ce0bdce1-7bf4-4dbe-860f-a6e50e2d2c96",
   "metadata": {},
   "outputs": [],
   "source": [
    "hex_to_bin(\"NICE\") # error"
   ]
  },
  {
   "cell_type": "markdown",
   "id": "caccc2ae-5fbb-495c-8779-819c5796623b",
   "metadata": {},
   "source": [
    "## Hexadecimal a octal\n",
    "\n",
    "La solución fácil es pasar de hexadecimal a binario, de binario a octal. Como las funciones ya las he creado antes, las puedo reutilizar llamándolas en esta.  \n",
    "El último **if** solamente borra un cero si ocurriera (es simplemente por estética)."
   ]
  },
  {
   "cell_type": "code",
   "execution_count": null,
   "id": "ade04ff3-ca09-4812-89ec-ee9c3d80a295",
   "metadata": {},
   "outputs": [],
   "source": [
    "def hex_to_octal(numero):\n",
    "    bin_number = hex_to_bin(numero)\n",
    "\n",
    "    if bin_number is None:\n",
    "        return None\n",
    "    \n",
    "    octal_number = binary_to_octal(bin_number)\n",
    "\n",
    "    if octal_number.startswith(\"0\"):\n",
    "        octal_number = octal_number[1:]\n",
    "\n",
    "    return octal_number"
   ]
  },
  {
   "cell_type": "code",
   "execution_count": null,
   "id": "313909d3-194e-4e70-9254-eaa8eecbe420",
   "metadata": {},
   "outputs": [],
   "source": [
    "hex_to_octal(\"C\") # deberia ser 14"
   ]
  },
  {
   "cell_type": "code",
   "execution_count": null,
   "id": "dcf2d8a6-2bd5-4a89-93bc-354f0cd436e4",
   "metadata": {},
   "outputs": [],
   "source": [
    "hex_to_bin(\"NICE\") # error"
   ]
  },
  {
   "cell_type": "code",
   "execution_count": null,
   "id": "87616d62-59ea-4a4b-833e-4bbc9db86ba5",
   "metadata": {},
   "outputs": [],
   "source": []
  }
 ],
 "metadata": {
  "kernelspec": {
   "display_name": "Python 3 (ipykernel)",
   "language": "python",
   "name": "python3"
  },
  "language_info": {
   "codemirror_mode": {
    "name": "ipython",
    "version": 3
   },
   "file_extension": ".py",
   "mimetype": "text/x-python",
   "name": "python",
   "nbconvert_exporter": "python",
   "pygments_lexer": "ipython3",
   "version": "3.12.7"
  }
 },
 "nbformat": 4,
 "nbformat_minor": 5
}
